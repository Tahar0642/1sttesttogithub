{
 "cells": [
  {
   "cell_type": "markdown",
   "id": "4463d34b-46a7-4d91-9cb2-fb2efe7f087b",
   "metadata": {},
   "source": [
    "Data Science Tools and Ecosystem"
   ]
  },
  {
   "cell_type": "markdown",
   "id": "36d61d24-ad94-4497-b509-f0b863162bcf",
   "metadata": {},
   "source": [
    "In this notebook, Data Science Tools and Ecosystem are summarized."
   ]
  },
  {
   "cell_type": "markdown",
   "id": "c9c2bcf1-b07a-487a-943c-3856aa6e22d6",
   "metadata": {},
   "source": [
    "Some of the popular languages that Data Scientists use are:\n",
    "\n",
    "1. Python  \n",
    "2. R  \n",
    "3. SQL  \n",
    "4. Julia  \n",
    "5. Scala"
   ]
  },
  {
   "cell_type": "markdown",
   "id": "4af1721b-b6aa-47a3-bff3-fce3eec364bd",
   "metadata": {},
   "source": [
    "Some of the commonly used libraries used by Data Scientists include:\n",
    "\n",
    "1. Pandas  \n",
    "2. NumPy  \n",
    "3. Matplotlib  \n",
    "4. Scikit-learn  \n",
    "5. TensorFlow"
   ]
  },
  {
   "cell_type": "markdown",
   "id": "ded6d871-8de7-4e56-8fd6-57782bc199da",
   "metadata": {},
   "source": [
    "| Data Science Tools       |\n",
    "|--------------------------|\n",
    "| Jupyter Notebook         |\n",
    "| RStudio                  |\n",
    "| Apache Zeppelin          |\n"
   ]
  },
  {
   "cell_type": "markdown",
   "id": "7884abc0-18df-446d-a62c-c5afcc4f2b05",
   "metadata": {},
   "source": [
    "### Below are a few examples of evaluating arithmetic expressions in Python"
   ]
  },
  {
   "cell_type": "code",
   "execution_count": 7,
   "id": "dc88dc36-f038-4824-8ccb-1df7be873782",
   "metadata": {},
   "outputs": [
    {
     "data": {
      "text/plain": [
       "17"
      ]
     },
     "execution_count": 7,
     "metadata": {},
     "output_type": "execute_result"
    }
   ],
   "source": [
    "#This a simple arithmetic expression to mutiply then add integers: \n",
    "(3*4)+5"
   ]
  },
  {
   "cell_type": "code",
   "execution_count": 8,
   "id": "ae840a2c-e6d5-41b9-af9a-56c66bc842fc",
   "metadata": {},
   "outputs": [
    {
     "data": {
      "text/plain": [
       "3.3333333333333335"
      ]
     },
     "execution_count": 8,
     "metadata": {},
     "output_type": "execute_result"
    }
   ],
   "source": [
    "#This will convert 200 minutes to hours by diving by 60:\n",
    "\n",
    "200 / 60"
   ]
  },
  {
   "cell_type": "markdown",
   "id": "c06f0ccc-9626-4bb2-a263-5e3fe91279a7",
   "metadata": {},
   "source": [
    "Objectives:"
   ]
  },
  {
   "cell_type": "markdown",
   "id": "01d95a6f-6955-4e69-af39-4078f7291ae4",
   "metadata": {},
   "source": [
    "**Objectives:**\n",
    "\n",
    "- List popular languages for Data Science\n",
    "- Identify commonly used libraries and tools in Data Science\n",
    "- Demonstrate basic arithmetic operations in a code cell\n",
    "- Understand the role of Jupyter Notebooks in data analysis\n",
    "- Practice using Markdown for text formatting\n"
   ]
  },
  {
   "cell_type": "markdown",
   "id": "8218aea0-c833-45a2-b9aa-9d71986ff175",
   "metadata": {},
   "source": [
    "## Author\n",
    "\n",
    "Tahar"
   ]
  },
  {
   "cell_type": "markdown",
   "id": "a0714f79-039b-497a-aa33-efd78c82730e",
   "metadata": {},
   "source": [
    "## Author\n",
    "\n",
    "Mohand Tahar Asbai\n"
   ]
  },
  {
   "cell_type": "code",
   "execution_count": null,
   "id": "255f959e-bd06-4a32-93e9-05131de85a76",
   "metadata": {},
   "outputs": [],
   "source": []
  }
 ],
 "metadata": {
  "kernelspec": {
   "display_name": "Python 3 (ipykernel)",
   "language": "python",
   "name": "python3"
  },
  "language_info": {
   "codemirror_mode": {
    "name": "ipython",
    "version": 3
   },
   "file_extension": ".py",
   "mimetype": "text/x-python",
   "name": "python",
   "nbconvert_exporter": "python",
   "pygments_lexer": "ipython3",
   "version": "3.12.8"
  }
 },
 "nbformat": 4,
 "nbformat_minor": 5
}
